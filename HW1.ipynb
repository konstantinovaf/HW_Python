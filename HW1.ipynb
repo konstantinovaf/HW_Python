{
 "cells": [
  {
   "cell_type": "markdown",
   "metadata": {},
   "source": [
    "Home work Python lesson 1"
   ]
  },
  {
   "cell_type": "markdown",
   "metadata": {},
   "source": [
    "Задание 1.\n",
    "Даны 2 строки long_phrase и short_phrase. Напишите код, который проверяет действительно ли длинная фраза long_phrase длиннее короткой short_phrase. И выводит True или False в зависимости от результата сравнения.\n",
    "\n",
    "long_phrase = 'Насколько проще было бы писать программы, если бы не заказчики’\n",
    "short_phrase = ‘640Кб должно хватить для любых задач. Билл Гейтс (по легенде)’  "
   ]
  },
  {
   "cell_type": "code",
   "execution_count": 4,
   "metadata": {},
   "outputs": [
    {
     "name": "stdout",
     "output_type": "stream",
     "text": [
      "True\n"
     ]
    }
   ],
   "source": [
    "long_phrase = \"Насколько проще было бы писать программы, если бы не заказчики\"\n",
    "short_phrase = \"640Кб должно хватить для любых задач. Билл Гейтс (по легенде)\" \n",
    "\n",
    "if len(long_phrase) > len(short_phrase):\n",
    "    print(True)\n",
    "else: \n",
    "    print(False)\n",
    "\n",
    "    "
   ]
  },
  {
   "cell_type": "markdown",
   "metadata": {},
   "source": [
    "Задание 2.\n",
    "Дано значение объема файла в байтах. Напишите перевод этого значения в мегабайты в формате:\n",
    "‘Объем файла равен 213.68Mb’"
   ]
  },
  {
   "cell_type": "code",
   "execution_count": 15,
   "metadata": {},
   "outputs": [
    {
     "name": "stdout",
     "output_type": "stream",
     "text": [
      "Объем файла равен 1.47Mb\n"
     ]
    }
   ],
   "source": [
    "File_size_bite = 1544321\n",
    "File_size_Mb = float(\"{0:.2f}\".format(File_size_bite / 1024 / 1024))\n",
    "\n",
    "print(f\"Объем файла равен {File_size_Mb}Mb\")\n",
    "     "
   ]
  },
  {
   "cell_type": "markdown",
   "metadata": {},
   "source": [
    "Задание 3.\n",
    "Разработать приложение для определения знака зодиака по дате рождения.\n",
    "Пример:\n",
    "\n",
    "Введите месяц: март\n",
    "Введите число: 6\n",
    "\n",
    "Вывод:\n",
    "Рыбы\n",
    "\n",
    "Доп. информация:\n",
    "♈\tОвен\tAries\t21 марта — 19 (20) апреля\tОгонь\n",
    "♉\tТелец\tTaurus\t20 (21) апреля — 20 мая\tЗемля\n",
    "♊\tБлизнецы\tGemini\t21 мая — 20 (21) июня\tВоздух\n",
    "♋\tРак\tCancer\t21 (22) июня — 22 июля\tВода\n",
    "♌\tЛев\tLeo\t23 июля — 22 (23) августа\tОгонь\n",
    "♍\tДева\tVirgo\t23 (24) августа — 22 (23) сентября\tЗемля\n",
    "♎\tВесы\tLibra\t23 (24) сентября — 22 (23) октября\tВоздух\n",
    "♏\tСкорпион\tScorpio\t23 (24) октября — 22 ноября\tВода\n",
    "♐\tСтрелец\tSagittarius\t23 ноября — 21 декабря\tОгонь\n",
    "♑\tКозерог\tCapricornus\t22 декабря — 19 (20) января\tЗемля\n",
    "♒\tВодолей\tAquarius\t20 (21) января — 18 (20) февраля\tВоздух\n",
    "♓\tРыбы\tPisces\t19 (21) февраля — 20 марта\tВода\n"
   ]
  },
  {
   "cell_type": "code",
   "execution_count": 24,
   "metadata": {},
   "outputs": [
    {
     "name": "stdout",
     "output_type": "stream",
     "text": [
      "Введите месяц:март\n",
      "Введите число:22\n",
      "Овен\n"
     ]
    }
   ],
   "source": [
    "Month_Name = input('Введите месяц:')\n",
    "Day_serial_number = int(input('Введите число:'))\n",
    "\n",
    "if Month_Name == \"январь\":\n",
    "    if Day_serial_number >= 20:\n",
    "        print('Водолей')\n",
    "    else:\n",
    "        print('Козерог')\n",
    "        \n",
    "elif Month_Name == \"февраль\":\n",
    "    if Day_serial_number >= 19:\n",
    "        print('Рыбы')\n",
    "    else:\n",
    "        print('Водолей')        \n",
    "        \n",
    "elif Month_Name == \"март\":\n",
    "    if Day_serial_number >= 21:\n",
    "        print('Овен')\n",
    "    else:\n",
    "        print('Рыбы')\n",
    "\n",
    "elif Month_Name == \"апрель\":\n",
    "    if Day_serial_number >= 20:\n",
    "        print('Телец')\n",
    "    else:\n",
    "        print('Овен')\n",
    "\n",
    "elif Month_Name == \"май\":\n",
    "    if Day_serial_number >= 21:\n",
    "        print('Близнецы')\n",
    "    else:\n",
    "        print('Телец')\n",
    "        \n",
    "elif Month_Name == \"июнь\":\n",
    "    if Day_serial_number >= 21:\n",
    "        print('Рак')\n",
    "    else:\n",
    "        print('Близнецы')\n",
    "\n",
    "elif Month_Name == \"июль\":\n",
    "    if Day_serial_number >= 23:\n",
    "        print('Лев')\n",
    "    else:\n",
    "        print('Рак')\n",
    "\n",
    "elif Month_Name == \"август\":\n",
    "    if Day_serial_number >= 23:\n",
    "        print('Дева')\n",
    "    else:\n",
    "        print('Лев')\n",
    "\n",
    "elif Month_Name == \"сентябрь\":\n",
    "    if Day_serial_number >= 23:\n",
    "        print('Весы')\n",
    "    else:\n",
    "        print('Дева')\n",
    "\n",
    "elif Month_Name == \"октябрь\":\n",
    "    if Day_serial_number >= 23:\n",
    "        print('Скорпион')\n",
    "    else:\n",
    "        print('Весы')\n",
    "\n",
    "elif Month_Name == \"ноябрь\":\n",
    "    if Day_serial_number >= 23:\n",
    "        print('Стрелец')\n",
    "    else:\n",
    "        print('Скорпион')\n",
    "\n",
    "elif Month_Name == \"декабрь\":\n",
    "    if Day_serial_number >= 22:\n",
    "        print('Козерог')\n",
    "    else:\n",
    "        print('Стрелец')\n",
    "        \n",
    "else:\n",
    "    print('Непризывная дата рождения')\n"
   ]
  },
  {
   "cell_type": "markdown",
   "metadata": {},
   "source": [
    "Задание 4.\n",
    "Нужно разработать приложение для финансового планирования.\n",
    "Приложение учитывает сколько уходит на ипотеку, “на жизнь” и сколько нужно отложить на пенсию.\n",
    "Пользователь вводит заработанную плату в месяц.\n",
    "Сколько процентов от зп уходит на ипотеку.\n",
    "Сколько процентов от зп уходит “на жизнь”.\n",
    "Сколько раз приходит премия в год.\n",
    "Остальная часть заработанной платы откладывается на пенсию.\n",
    "Также пользователю приходит премия в размере зарплаты, от которой половина уходит на отпуск, а вторая половина откладывается.\n",
    "Программа должна учитывать сколько премий было в год.\n",
    "Нужно вывести сколько денег тратит пользователь на ипотеку и сколько он накопит за год.\n",
    "Пример:\n",
    "\n",
    "Введите заработанную плату в месяц: 100000\n",
    "Введите сколько процентов уходит на ипотеку: 30\n",
    "Введите сколько процентов уходит на жизнь: 50\n",
    "Введите количество премий за год: 2\n",
    "\n",
    "Вывод:\n",
    "На ипотеку было потрачено: 360000 рублей\n",
    "Было накоплено: 340000 рублей"
   ]
  },
  {
   "cell_type": "code",
   "execution_count": 53,
   "metadata": {
    "scrolled": false
   },
   "outputs": [
    {
     "name": "stdout",
     "output_type": "stream",
     "text": [
      "Введите заработанную плату в месяц: 100000\n",
      "Введите сколько процентов уходит на ипотеку: 30\n",
      "Введите сколько процентов уходит на жизнь: 50\n",
      "Введите количество премий за год: 2\n",
      "\n",
      "Вывод:\n",
      "На ипотеку было потрачено: 360000 рублей\n",
      "Было накоплено: 340000 рублей\n"
     ]
    }
   ],
   "source": [
    "try:\n",
    "    Salary_per_month = int(input('Введите заработанную плату в месяц: '))\n",
    "    Mortgage_percentage = int(input('Введите сколько процентов уходит на ипотеку: '))\n",
    "    Survival_percentage = int(input('Введите сколько процентов уходит на жизнь: '))\n",
    "    Count_of_bonus = int(input('Введите количество премий за год: '))\n",
    "\n",
    "#Money was spended by Mortgage\n",
    "    Mortgage__year_sum = int(Mortgage_percentage /100 * Salary_per_month * 12)\n",
    "\n",
    "# Money was saved\n",
    "    Money_was_saved = int(Salary_per_month * 12 * (100 - Mortgage_percentage - Survival_percentage) / 100 + Count_of_bonus * Salary_per_month / 2)\n",
    "\n",
    "    print('\\nВывод:')\n",
    "    print('На ипотеку было потрачено: {} рублей'.format(Mortgage__year_sum))\n",
    "    print('Было накоплено: {} рублей'.format(Money_was_saved))\n",
    "    \n",
    "    \n",
    "except:\n",
    "    print('Не получилось провести расчет')\n",
    "    \n"
   ]
  }
 ],
 "metadata": {
  "kernelspec": {
   "display_name": "Python 3",
   "language": "python",
   "name": "python3"
  },
  "language_info": {
   "codemirror_mode": {
    "name": "ipython",
    "version": 3
   },
   "file_extension": ".py",
   "mimetype": "text/x-python",
   "name": "python",
   "nbconvert_exporter": "python",
   "pygments_lexer": "ipython3",
   "version": "3.6.5"
  }
 },
 "nbformat": 4,
 "nbformat_minor": 2
}
