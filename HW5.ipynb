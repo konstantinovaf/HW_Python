{
 "cells": [
  {
   "cell_type": "markdown",
   "metadata": {},
   "source": [
    "Домашнее задание¶\n",
    "\n",
    "Переведите содержимое файла purchase_log.txt в словарь purchases вида:\n",
    "{'1840e0b9d4': 'Продукты', ...}\n",
    "\n",
    "Для каждого user_id в файле visit_log.csv добавьте третий столбец с категорией покупки (если покупка была).\n",
    "Запишите в файл funnel.csv визиты из файла visit_log.csv, в которых были покупки с указанием категории.\n",
    "\n",
    "Учтите условия на данные:\n",
    "содержимое purchase_log.txt помещается в оперативную память компьютера\n",
    "содержимое visit_log.csv - нет; используйте только построчную обработку этого файла"
   ]
  },
  {
   "cell_type": "code",
   "execution_count": 3,
   "metadata": {},
   "outputs": [
    {
     "name": "stdout",
     "output_type": "stream",
     "text": [
      "{'1840e0b9d4': 'Продукты', '4e4f90fcfb': 'Электроника', 'afea8d72fc': 'Электроника', '373a6055fe': 'Бытовая техника', '9b2ab046f3': 'Электроника'}\n"
     ]
    }
   ],
   "source": [
    "# # Read purchase_log.txt all rows in RAM \n",
    "# import json\n",
    "\n",
    "i = 0\n",
    "new_dict = {}\n",
    "\n",
    "f = open('purchase_log.txt', 'r', encoding='utf-8')\n",
    "content = f.readlines() #Full file inject to RAM\n",
    "f.close()\n",
    "\n",
    "# with open('purchase_log.txt', 'r', encoding=\"utf-8\") as f: #так мы читаем по строчно, это не по заданию\n",
    "for line in content:\n",
    "    if i == 0: #header cropping\n",
    "        i += 1\n",
    "        pass\n",
    "    elif i > 0 :\n",
    "        line = line.strip()\n",
    "\n",
    "        dict_ = json.loads(line) # Full file inject to RAM\n",
    "\n",
    "        new_dict[dict_['user_id']] = dict_['category']\n",
    "\n",
    "        i += 1\n",
    "        if i > 5:\n",
    "            break\n",
    "print(new_dict)\n"
   ]
  },
  {
   "cell_type": "markdown",
   "metadata": {},
   "source": [
    "Для каждого user_id в файле visit_log.csv добавьте третий столбец с категорией покупки (если покупка была).\n",
    "Запишите в файл funnel.csv визиты из файла visit_log.csv, в которых были покупки с указанием категории."
   ]
  },
  {
   "cell_type": "code",
   "execution_count": 103,
   "metadata": {
    "scrolled": false
   },
   "outputs": [],
   "source": [
    "i = 0\n",
    "with open('visit_log.csv', 'r') as f, open ('visit_log_new.csv', 'w') as Wr, open('funnel.csv', 'w') as Fu:\n",
    "    for line in f:\n",
    "        if i == 0:\n",
    "            header = line.strip() + ','+ 'category' + '\\n'\n",
    "            Wr.write(header)\n",
    "            Fu.write(header)\n",
    "            i +=1\n",
    "        else:\n",
    "            line = line.strip().split(',')\n",
    "            if line[0] in new_dict:\n",
    "                line.append((new_dict[line[0]]))\n",
    "                str1 = ','.join(line) + '\\n'\n",
    "                Wr.write(str1)\n",
    "                Fu.write(str1)\n",
    "            else:\n",
    "                str2 = ','.join(line) + '\\n'\n",
    "                Wr.write(str2)\n",
    "                \n",
    "            i += 1\n",
    "    #         if i > 100:\n",
    "    #             break\n",
    "    #rename file\n",
    "import os\n",
    "os.remove('visit_log.csv')\n",
    "os.rename('visit_log_new.csv', 'visit_log.csv')"
   ]
  }
 ],
 "metadata": {
  "kernelspec": {
   "display_name": "Python 3",
   "language": "python",
   "name": "python3"
  },
  "language_info": {
   "codemirror_mode": {
    "name": "ipython",
    "version": 3
   },
   "file_extension": ".py",
   "mimetype": "text/x-python",
   "name": "python",
   "nbconvert_exporter": "python",
   "pygments_lexer": "ipython3",
   "version": "3.6.5"
  }
 },
 "nbformat": 4,
 "nbformat_minor": 2
}
