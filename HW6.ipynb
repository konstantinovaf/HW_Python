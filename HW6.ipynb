{
 "cells": [
  {
   "cell_type": "markdown",
   "metadata": {},
   "source": [
    "# Домашнее задание к лекции \"Регулярные выражения\"\n",
    "Для зачета необходимо выполнить 4 задания.  \n",
    "Для зачета с отличием – все."
   ]
  },
  {
   "cell_type": "markdown",
   "metadata": {},
   "source": [
    "## Задание 1"
   ]
  },
  {
   "cell_type": "markdown",
   "metadata": {},
   "source": [
    "Напишите функцию, которая принимает на вход строку и проверяет является ли она валидным транспортным номером. Если да, то функция должна возвращать отдельно номер и регион."
   ]
  },
  {
   "cell_type": "markdown",
   "metadata": {},
   "source": [
    "Справочно:\n",
    "ГОСТ Р 50577-2018\n",
    "А000АА777 - шаблон номера\n",
    "ГОСТом для использования на знаках разрешены 12 букв кириллицы, имеющие графические аналоги в латинском алфавите — А, В, Е, К, М, Н, О, Р, С, Т, У и Х. В"
   ]
  },
  {
   "cell_type": "code",
   "execution_count": 180,
   "metadata": {},
   "outputs": [],
   "source": [
    "def car_number_validator(gos_n):\n",
    "    import re\n",
    "    RegEx_Gos_Numb = r'\\b([АВЕКМНОРСТУХ]{1}?)\\d{3}?[АВЕКМНОРСТУХ]{2}?\\d{2,3}?\\b'\n",
    "    \n",
    "    if re.search(RegEx_Gos_Numb, gos_n):\n",
    "        print(f'Государственный автомобильный номер {gos_n} корректный')\n",
    "    else:\n",
    "        print(f'Государственный автомобильный номер {gos_n} НЕ корректный')"
   ]
  },
  {
   "cell_type": "code",
   "execution_count": 182,
   "metadata": {},
   "outputs": [
    {
     "name": "stdout",
     "output_type": "stream",
     "text": [
      "Государственный автомобильный номер А906ВС77774 НЕ корректный\n",
      "Государственный автомобильный номер В874АФ77 НЕ корректный\n",
      "Государственный автомобильный номер СВ777АВ74 НЕ корректный\n",
      "Государственный автомобильный номер С777АВ744 корректный\n",
      "Государственный автомобильный номер С77АВ74 НЕ корректный\n",
      "Государственный автомобильный номер А678ВС888 корректный\n"
     ]
    }
   ],
   "source": [
    "Gos_Numb = ['А906ВС77774', 'В874АФ77', 'СВ777АВ74', 'С777АВ744', 'С77АВ74', 'А678ВС888']\n",
    "\n",
    "for gos_n in Gos_Numb:\n",
    "    car_number_validator(gos_n)\n",
    "    "
   ]
  },
  {
   "cell_type": "markdown",
   "metadata": {},
   "source": [
    "## Задание 2"
   ]
  },
  {
   "cell_type": "markdown",
   "metadata": {},
   "source": [
    "Напишите функцию, которая проверяет e-mail адрес на валидность по стандарту RFC822: http://www.w3.org/Protocols/rfc822/. Для этого постарайтесь написать (в крайнем случае найти) самый полный шаблон для проверки e-mail адресов через регулярное выражение. Разберитесь и напишите примеры, какие ваш шаблон может не охватить."
   ]
  },
  {
   "cell_type": "code",
   "execution_count": 153,
   "metadata": {},
   "outputs": [],
   "source": [
    "def email_checker(email):\n",
    "    import re\n",
    "    regex_mails = r'^[a-zA-Z0-9_.+-]+@[a-zA-Z0-9-]+\\.[a-zA-Z0-9-.]+$'\n",
    "    if re.match(regex_mails, email):\n",
    "        email_status = 'The email {} is a valid email'.format(email)\n",
    "        return email_status\n",
    "    else:\n",
    "        email_status = 'The email {} is invalid'.format(email)\n",
    "        return email_status\n"
   ]
  },
  {
   "cell_type": "code",
   "execution_count": 154,
   "metadata": {},
   "outputs": [
    {
     "name": "stdout",
     "output_type": "stream",
     "text": [
      "The email n.john.smith@gmail.com is a valid email\n",
      "The email 87victory@hotmail.com is a valid email\n",
      "The email !#mary-=@msca.net is invalid\n"
     ]
    }
   ],
   "source": [
    "emails = ['n.john.smith@gmail.com', '87victory@hotmail.com', '!#mary-=@msca.net']\n",
    "\n",
    "for email in emails:\n",
    "    print(email_checker(email))"
   ]
  },
  {
   "cell_type": "markdown",
   "metadata": {},
   "source": [
    "## Задание 3\n",
    "При помощи регулярных выражений напишите функцию, которая будет возвращать акроним переданного в нее текста."
   ]
  },
  {
   "cell_type": "code",
   "execution_count": 8,
   "metadata": {},
   "outputs": [
    {
     "name": "stdout",
     "output_type": "stream",
     "text": [
      "[]\n"
     ]
    }
   ],
   "source": [
    "# import re\n",
    "# string_in = 'Короткие Гальские Бураши'\n",
    "# regex = r\"\\b[A-Z][a-zA-Z\\.]*[A-Z]\\b\\.?\"\n",
    "# result = re.findall(regex, string_in)\n",
    "# print(result)\n",
    "# # acr = acronims(string_in, regex)\n",
    "\n",
    "# # def acronims(string_in, regex):\n",
    "# #     return result"
   ]
  },
  {
   "cell_type": "markdown",
   "metadata": {},
   "source": [
    "\n",
    "## Задание 4\n",
    "Напишите функцию, которая будет удалять все последовательные повторы слов из заданной строки."
   ]
  },
  {
   "cell_type": "code",
   "execution_count": 11,
   "metadata": {},
   "outputs": [],
   "source": [
    "def remove_series_word_dublicate(text):\n",
    "    text = re.sub(r'\\b(\\w+)( \\1\\b)+', r'\\1', text)\n",
    "    return text"
   ]
  },
  {
   "cell_type": "code",
   "execution_count": 14,
   "metadata": {},
   "outputs": [
    {
     "name": "stdout",
     "output_type": "stream",
     "text": [
      "Привет друзья\n"
     ]
    }
   ],
   "source": [
    "text = 'Привет друзья друзья'\n",
    "\n",
    "result4 = remove_series_word_dublicate(text)\n",
    "print(result4)\n"
   ]
  },
  {
   "cell_type": "markdown",
   "metadata": {},
   "source": [
    "## Задание 5\n",
    "Напишите функцию, которая будет проверять номер сотового телефона на валидность, если он валиден, то переводить его в формат:   \n",
    "+7(xxx)-xxx-xx-xx  \n",
    "Постарайтесь предусмотреть как можно больше адекватных форматов изначального ввода номера.\n",
    "Примеры правильных и неправильных форматов:\n",
    "- +1 555 555-55-55;\n",
    "- 5555555555;\n",
    "- 555555555;\n",
    "- 8(555)555-55-55;\n",
    "- +7 555 555 55 55;\n",
    "- 7(555) 555-55-55;\n",
    "- +7 555+555+55+55."
   ]
  },
  {
   "cell_type": "code",
   "execution_count": 118,
   "metadata": {},
   "outputs": [],
   "source": [
    "\n",
    "def phone_checker_converter(num):\n",
    "# NOTE: The topic is RegEx, but I am not sure in input fornat, therefore I use only 're.findall' constraction. \n",
    "# It is more reliable\n",
    "    \n",
    "    import re\n",
    "    separator = ''\n",
    "    text = re.findall(f'\\w+', num)\n",
    "    text = separator.join(text)\n",
    "    \n",
    "    if len(text) == 10:\n",
    "        text = f'+7({text[0:3]})-{text[3:6]}-{text[6:8]}-{text[8:10]}'\n",
    "        return text\n",
    "    elif len(text) == 11:\n",
    "        if text[0] == '7' or text[0] == '8':\n",
    "            text = f'+7({text[1:4]})-{text[4:7]}-{text[7:9]}-{text[9:11]}'\n",
    "            return text\n",
    "        else:\n",
    "            text = f'Text start from incorrect country index: {text[0]}'\n",
    "            return text\n",
    "    else:\n",
    "        text = f'Text consist incorrect count of digitals: {len(text)}'\n",
    "        return text\n"
   ]
  },
  {
   "cell_type": "code",
   "execution_count": 120,
   "metadata": {},
   "outputs": [
    {
     "name": "stdout",
     "output_type": "stream",
     "text": [
      "Text start from incorrect country index: 1\n",
      "+7(555)-555-55-55\n",
      "Text consisn incorrect count of digitals: 9\n",
      "+7(555)-555-55-55\n",
      "+7(555)-555-55-55\n",
      "+7(555)-555-55-55\n",
      "+7(555)-555-55-55\n",
      "+7(666)-777-66-55\n"
     ]
    }
   ],
   "source": [
    "numbers = ['+1 555 555-55-55;', '5555555555;', '555555555;', '8(555)555-55-55', \n",
    "           '+7 555 555 55 55;', '7(555) 555-55-55;', '+7 555+555+55+55.', '+7 666+777+6655.' ]\n",
    "\n",
    "for num in numbers:\n",
    "   print(phone_checker_converter(num))"
   ]
  }
 ],
 "metadata": {
  "kernelspec": {
   "display_name": "Python 3",
   "language": "python",
   "name": "python3"
  },
  "language_info": {
   "codemirror_mode": {
    "name": "ipython",
    "version": 3
   },
   "file_extension": ".py",
   "mimetype": "text/x-python",
   "name": "python",
   "nbconvert_exporter": "python",
   "pygments_lexer": "ipython3",
   "version": "3.6.5"
  }
 },
 "nbformat": 4,
 "nbformat_minor": 2
}
