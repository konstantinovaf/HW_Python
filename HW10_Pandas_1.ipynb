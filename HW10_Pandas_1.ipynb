{
 "cells": [
  {
   "cell_type": "markdown",
   "metadata": {
    "slideshow": {
     "slide_type": "slide"
    }
   },
   "source": [
    "Преподаватель: Константин Башевой\n",
    "Домашнее задание\n",
    "\n",
    "Задание 1\n",
    "Скачайте с сайта https://grouplens.org/datasets/movielens/ датасет любого размера. Определите какому фильму было выставлено больше всего оценок 5.0.\n",
    "\n"
   ]
  },
  {
   "cell_type": "code",
   "execution_count": 1,
   "metadata": {
    "slideshow": {
     "slide_type": "fragment"
    }
   },
   "outputs": [],
   "source": [
    "import pandas as pd\n",
    "\n",
    "# !jupyter nbconvert HW10_pandas_1.ipynb --to slides --post serve"
   ]
  },
  {
   "cell_type": "code",
   "execution_count": 29,
   "metadata": {},
   "outputs": [
    {
     "data": {
      "text/plain": [
       "movieId\n",
       "318    153\n",
       "Name: rating, dtype: int64"
      ]
     },
     "execution_count": 29,
     "metadata": {},
     "output_type": "execute_result"
    }
   ],
   "source": [
    "#discover dataset\n",
    "\n",
    "ratings = pd.read_csv('ratings.csv')\n",
    "movies = pd.read_csv('movies.csv')\n",
    "links = pd.read_csv('links.csv')\n",
    "\n",
    "ratings.head()\n",
    "# add filter rating == 5.0\n",
    "filtered_movies = ratings[ ratings['rating'] == 5.0 ]\n",
    "movies_group.count = filtered_movies.groupby('movieId')['rating'].count()\n",
    "# movies_group\n",
    "movies_group.sort_values(ascending=False).head(1)\n",
    "\n",
    "# data.groupby('month')['duration'].sum()\n",
    "\n",
    "\n",
    "# data.sort_values('quantity', ascending=False).head()\n",
    "\n",
    "# filtered_movies.head()\n",
    "# movies.head()\n",
    "# links.head()"
   ]
  },
  {
   "cell_type": "markdown",
   "metadata": {
    "slideshow": {
     "slide_type": "skip"
    }
   },
   "source": [
    "Задание 2\n",
    "По данным файла power.csv посчитайте суммарное потребление стран Прибалтики (Латвия, Литва и Эстония) категорий 4, 12 и 21 за период с 2005 по 2010 года. Не учитывайте в расчетах отрицательные значения quantity.\n",
    "\n"
   ]
  },
  {
   "cell_type": "code",
   "execution_count": 55,
   "metadata": {},
   "outputs": [
    {
     "data": {
      "text/plain": [
       "206476.0"
      ]
     },
     "execution_count": 55,
     "metadata": {},
     "output_type": "execute_result"
    }
   ],
   "source": [
    "power = pd.read_csv('power.csv')\n",
    "power.head()\n",
    "\n",
    "# filter conditions\n",
    "# 1. суммарное потребление стран Прибалтики (Латвия, Литва и Эстония)\n",
    "# 2. категорий 4, 12 и 21\n",
    "# 3. период с 2005 по 2010 года\n",
    "# 4. Не учитывайте в расчетах отрицательные значения quantity\n",
    "\n",
    "# 1. суммарное потребление стран Прибалтики (Латвия, Литва и Эстония)\n",
    "filtered_countries = power[  (power['country']=='Latvia') | (power['country']=='Lithuania') | (power['country']=='Estonia') ]\n",
    "filtered_countries.head()\n",
    "\n",
    "# 2. категорий 4, 12 и 21\n",
    "filtered_category = filtered_countries[(filtered_countries['category']== 4) | \\\n",
    "                                       (filtered_countries['category']== 12) | \\\n",
    "                                       (filtered_countries['category']== 21) ]\n",
    "filtered_category.head()\n",
    "\n",
    "# 3. период с 2005 по 2010 года\n",
    "filtered_years = filtered_category[(filtered_category['year'] >= 2005) & (filtered_category['year'] >=2010)]\n",
    "filtered_years.head()\n",
    "\n",
    "# 4. Не учитывайте в расчетах отрицательные значения quantity\n",
    "result = filtered_years[filtered_years['quantity']>= 0]\n",
    "# result.head()\n",
    "result['quantity'].sum()\n",
    "\n",
    "# filtered_countries = data[ (data['country']=='Russian Federation') | (data['country']=='Belarus') ]\n",
    "# filtered_countries.head()\n"
   ]
  },
  {
   "cell_type": "markdown",
   "metadata": {
    "slideshow": {
     "slide_type": "notes"
    }
   },
   "source": [
    "Задание 3\n",
    "Выберите страницу любого сайта с табличными данными. Импортируйте таблицы в pandas dataframe.\n",
    "Примеры страниц (необязательно брать именно эти):\n",
    "https://fortrader.org/quotes\n",
    "https://www.finanz.ru/valyuty/v-realnom-vremeni"
   ]
  },
  {
   "cell_type": "code",
   "execution_count": 67,
   "metadata": {},
   "outputs": [
    {
     "data": {
      "text/html": [
       "<div>\n",
       "<style scoped>\n",
       "    .dataframe tbody tr th:only-of-type {\n",
       "        vertical-align: middle;\n",
       "    }\n",
       "\n",
       "    .dataframe tbody tr th {\n",
       "        vertical-align: top;\n",
       "    }\n",
       "\n",
       "    .dataframe thead th {\n",
       "        text-align: right;\n",
       "    }\n",
       "</style>\n",
       "<table border=\"1\" class=\"dataframe\">\n",
       "  <thead>\n",
       "    <tr style=\"text-align: right;\">\n",
       "      <th></th>\n",
       "      <th>Россия Цены</th>\n",
       "      <th>Последний</th>\n",
       "      <th>Предыдущий</th>\n",
       "      <th>Наивысший</th>\n",
       "      <th>Самые низкие</th>\n",
       "      <th>Блок</th>\n",
       "      <th>Unnamed: 6</th>\n",
       "    </tr>\n",
       "  </thead>\n",
       "  <tbody>\n",
       "    <tr>\n",
       "      <th>0</th>\n",
       "      <td>Россия Цены</td>\n",
       "      <td>Последний</td>\n",
       "      <td>Предыдущий</td>\n",
       "      <td>Наивысший</td>\n",
       "      <td>Самые низкие</td>\n",
       "      <td>Блок</td>\n",
       "      <td>NaN</td>\n",
       "    </tr>\n",
       "    <tr>\n",
       "      <th>1</th>\n",
       "      <td>Уровень инфляции</td>\n",
       "      <td>3.80</td>\n",
       "      <td>4.00</td>\n",
       "      <td>2333.30</td>\n",
       "      <td>2.20</td>\n",
       "      <td>Процент</td>\n",
       "      <td>[+]</td>\n",
       "    </tr>\n",
       "    <tr>\n",
       "      <th>2</th>\n",
       "      <td>Уровень инфляции (Ежемесячно)</td>\n",
       "      <td>0.10</td>\n",
       "      <td>-0.20</td>\n",
       "      <td>100.00</td>\n",
       "      <td>-0.50</td>\n",
       "      <td>Процент</td>\n",
       "      <td>[+]</td>\n",
       "    </tr>\n",
       "    <tr>\n",
       "      <th>3</th>\n",
       "      <td>Индекс потребительских цен CPI</td>\n",
       "      <td>588.40</td>\n",
       "      <td>587.50</td>\n",
       "      <td>590.10</td>\n",
       "      <td>0.10</td>\n",
       "      <td>Индекс очки</td>\n",
       "      <td>[+]</td>\n",
       "    </tr>\n",
       "    <tr>\n",
       "      <th>4</th>\n",
       "      <td>Основные потребительские цены</td>\n",
       "      <td>100.20</td>\n",
       "      <td>100.20</td>\n",
       "      <td>103.50</td>\n",
       "      <td>100.10</td>\n",
       "      <td>Индекс очки</td>\n",
       "      <td>[+]</td>\n",
       "    </tr>\n",
       "  </tbody>\n",
       "</table>\n",
       "</div>"
      ],
      "text/plain": [
       "                      Россия Цены  Последний  Предыдущий  Наивысший  \\\n",
       "0                     Россия Цены  Последний  Предыдущий  Наивысший   \n",
       "1                Уровень инфляции       3.80        4.00    2333.30   \n",
       "2   Уровень инфляции (Ежемесячно)       0.10       -0.20     100.00   \n",
       "3  Индекс потребительских цен CPI     588.40      587.50     590.10   \n",
       "4   Основные потребительские цены     100.20      100.20     103.50   \n",
       "\n",
       "   Самые низкие         Блок Unnamed: 6  \n",
       "0  Самые низкие         Блок        NaN  \n",
       "1          2.20      Процент        [+]  \n",
       "2         -0.50      Процент        [+]  \n",
       "3          0.10  Индекс очки        [+]  \n",
       "4        100.10  Индекс очки        [+]  "
      ]
     },
     "execution_count": 67,
     "metadata": {},
     "output_type": "execute_result"
    }
   ],
   "source": [
    "# page_url = 'https://ru.tradingeconomics.com/russia/producer-prices'\n",
    "df = pd.read_html('https://ru.tradingeconomics.com/russia/producer-prices')[1]\n",
    "df.head()"
   ]
  },
  {
   "cell_type": "code",
   "execution_count": 72,
   "metadata": {},
   "outputs": [
    {
     "data": {
      "text/plain": [
       "[    Календарь       GMT                           Unnamed: 2  Фактический  \\\n",
       " 0   Календарь       GMT                                  NaN  Фактический   \n",
       " 1  2019-07-16  01:00 PM  Индекс цен производителей (м/м) Jun        -0.6%   \n",
       " 2  2019-08-16  01:00 PM  Индекс цен производителей (м/м) Jul        -2.7%   \n",
       " 3  2019-09-17  01:00 PM  Индекс цен производителей (м/м) Aug        -0.6%   \n",
       " 4  2019-10-17  01:00 PM  Индекс цен производителей (м/м) Sep        -0.3%   \n",
       " 5         [+]       NaN                                  NaN          NaN   \n",
       " \n",
       "    Предыдущий  Консенсус  \n",
       " 0  Предыдущий  Консенсус  \n",
       " 1        1.8%      -1.5%  \n",
       " 2       -0.6%        NaN  \n",
       " 3       -2.7%        NaN  \n",
       " 4       -0.6%        NaN  \n",
       " 5         NaN        NaN  ,\n",
       "                        Россия Цены  Последний  Предыдущий  Наивысший  \\\n",
       " 0                      Россия Цены  Последний  Предыдущий  Наивысший   \n",
       " 1                 Уровень инфляции       3.80        4.00    2333.30   \n",
       " 2    Уровень инфляции (Ежемесячно)       0.10       -0.20     100.00   \n",
       " 3   Индекс потребительских цен CPI     588.40      587.50     590.10   \n",
       " 4    Основные потребительские цены     100.20      100.20     103.50   \n",
       " 5            Цена базовой инфляции       3.70        4.00      17.50   \n",
       " 6                     Дефлятор ВВП     119.93      121.22     121.34   \n",
       " 7        Индекс цен производителей     669.10      671.10     722.40   \n",
       " 8     Изменение цен производителей      -1.20        0.30      33.70   \n",
       " 9       Продовольственная инфляция       5.10        5.60      26.10   \n",
       " 10                             [+]        NaN         NaN        NaN   \n",
       " \n",
       "     Самые низкие         Блок Unnamed: 6  \n",
       " 0   Самые низкие         Блок        NaN  \n",
       " 1           2.20      Процент        [+]  \n",
       " 2          -0.50      Процент        [+]  \n",
       " 3           0.10  Индекс очки        [+]  \n",
       " 4         100.10  Индекс очки        [+]  \n",
       " 5           1.80      Процент        [+]  \n",
       " 6          43.41  Индекс очки        [+]  \n",
       " 7           0.00  Индекс очки        [+]  \n",
       " 8         -12.30      Процент        [+]  \n",
       " 9          -0.60      Процент        [+]  \n",
       " 10           NaN          NaN        NaN  ]"
      ]
     },
     "execution_count": 72,
     "metadata": {},
     "output_type": "execute_result"
    }
   ],
   "source": [
    "page_url = 'https://ru.tradingeconomics.com/russia/producer-prices'\n",
    "# Импортируем нужную нам страницу в df\n",
    "# attrs = {'class': 'panel panel-default'}  ---> указываем какой именно блок нам нужен\n",
    "# encoding='utf-8'  ---> указываем кодировку страниц для корректного отображения кириллицы\n",
    "df = pd.read_html(page_url, attrs = {'class': 'table table-hover'}, encoding='utf-8')\n",
    "df\n",
    "\n",
    "# Вопрос по 3 заданию - как более точно задать место в коде, чтобы определить точнее, какие именно данные надо качать?\n",
    "# Выкачивается много мусора"
   ]
  }
 ],
 "metadata": {
  "kernelspec": {
   "display_name": "Python 3",
   "language": "python",
   "name": "python3"
  },
  "language_info": {
   "codemirror_mode": {
    "name": "ipython",
    "version": 3
   },
   "file_extension": ".py",
   "mimetype": "text/x-python",
   "name": "python",
   "nbconvert_exporter": "python",
   "pygments_lexer": "ipython3",
   "version": "3.6.5"
  }
 },
 "nbformat": 4,
 "nbformat_minor": 2
}
