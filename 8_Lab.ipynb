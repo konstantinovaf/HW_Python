{
 "cells": [
  {
   "cell_type": "markdown",
   "metadata": {},
   "source": [
    "Задача 1 Дана строка \n",
    "string_01 = 'Mama, just killed a man, put a gun against his head, pulled my trigger, now he's dead. Mama, life had just begun, but now I've gone and thrown it all away. Mama, ooh (any way the wind blows), didn't mean to make you cry. If I'm not back again this time tomorrow carry on, carry on as if nothing really matters.' \n",
    "\n",
    "1.Посчитайте, сколько в строке символов (исключая пробелы).\n",
    "2.Посчитайте, сколько в строке слов.\n",
    "3.Напишите функцию, которая будет принимать в качестве аргумента букву и выводить все слова из строки, заканчивающиеся на эту букву (например, “s”).\n",
    "4.Не обязательно: Напишите функцию, которая будет принимать в качестве аргумента букву и выводить все слова из строки, начинающиеся на эту букву (например, “m”)."
   ]
  },
  {
   "cell_type": "code",
   "execution_count": 46,
   "metadata": {
    "scrolled": true
   },
   "outputs": [
    {
     "name": "stdout",
     "output_type": "stream",
     "text": [
      "1. Количество символов в строке, без пробелов: 250\n",
      "2. Количество слов в строке: 61\n",
      "3. Слова строки заканчивающиеся на 's': ['his', \"he's\", 'this', 'as']\n",
      "4. Слова строки начинающиеся на 'm': ['man,', 'my', 'mean', 'make', 'matters.']\n"
     ]
    }
   ],
   "source": [
    "#main\n",
    "\n",
    "string_01 = 'Mama, just killed a man, put a gun against his head, pulled my trigger, now he\\'s dead. Mama, life had just begun, but now I\\'ve gone and thrown it all away. Mama, ooh (any way the wind blows), didn\\'t mean to make you cry. If I\\'m not back again this time tomorrow carry on, carry on as if nothing really matters.'\n",
    "\n",
    "# 1 exercise\n",
    "count_of_symbols = len(string_01) - string_01.count(' ')\n",
    "print(f'1. Количество символов в строке, без пробелов: {count_of_symbols}')\n",
    "\n",
    "# 2 exercise\n",
    "# from collections import Counter\n",
    "words = string_01.split()\n",
    "wordCount = len(words)\n",
    "print(f'2. Количество слов в строке: {wordCount}')\n",
    "\n",
    "#3 exercise\n",
    "symbol = 's'\n",
    "result3 = find_end_words_in_string(string_01, symbol)\n",
    "print(f'3. Слова строки заканчивающиеся на \\'{symbol}\\': {result3}' )\n",
    "\n",
    "#4 exercise\n",
    "symbol4 = 'm'\n",
    "result4 = find_start_words_in_string(string_01, symbol4)\n",
    "print(f'4. Слова строки начинающиеся на \\'{symbol4}\\': {result4}' )"
   ]
  },
  {
   "cell_type": "code",
   "execution_count": 39,
   "metadata": {},
   "outputs": [],
   "source": [
    "# 3 exercise\n",
    "\n",
    "def find_end_words_in_string(string_01, symbol):\n",
    "    result3 = []\n",
    "    words = string_01.split()\n",
    "#     print(words)\n",
    "#     print(symbol)\n",
    "    \n",
    "    for word in words:\n",
    "#         print(word)\n",
    "        if word[-1] == symbol:\n",
    "            result3.append(word)\n",
    "#     print(result3)\n",
    "    return result3\n",
    "        "
   ]
  },
  {
   "cell_type": "code",
   "execution_count": 44,
   "metadata": {},
   "outputs": [],
   "source": [
    "# 4 exercise\n",
    "\n",
    "def find_start_words_in_string(string_01, symbol):\n",
    "    result4 = []\n",
    "    words = string_01.split()\n",
    "#     print(words)\n",
    "#     print(symbol)\n",
    "    \n",
    "    for word in words:\n",
    "#         print(word)\n",
    "        if word[0] == symbol:\n",
    "            result4.append(word)\n",
    "#     print(result3)\n",
    "    return result4"
   ]
  },
  {
   "cell_type": "markdown",
   "metadata": {},
   "source": [
    "Задача 2 Напишите код, который будет генерировать случайную последовательность из 6 цифр, одна из которых должна быть 3. Позиция цифры 3 должна определяться случайным образом. Результат должен быть строкой. Например: \"456309\" или \"330127\"."
   ]
  },
  {
   "cell_type": "code",
   "execution_count": 136,
   "metadata": {},
   "outputs": [
    {
     "name": "stdout",
     "output_type": "stream",
     "text": [
      "Результат: 638438. Формат цифры: <class 'str'>\n"
     ]
    }
   ],
   "source": [
    "import random\n",
    "dig = ''\n",
    "\n",
    "# creating first string\n",
    "for _ in range(6): \n",
    "    dig += str(random.randrange(0, 10, 1))\n",
    "# print(dig)\n",
    "\n",
    "#injecting '3' in random plase\n",
    "place_to_3 = random.randrange(0, 6, 1)\n",
    "\n",
    "# print(place_to_3)\n",
    "# s = s[:num] + new_simbol + s[num+1:]\n",
    "dig = str(dig[:place_to_3] + '3' + dig[place_to_3+1:])\n",
    "\n",
    "print(f'Результат: {dig}. Формат цифры: {type(dig)}')\n"
   ]
  },
  {
   "cell_type": "markdown",
   "metadata": {},
   "source": [
    "Задача 3\n",
    "Дан список \n",
    "list_01 = [1, 1, 2, 3, 5, 8, 13, 21, 34, 55, 89, 144, 233, 377, 610] Напишите алгоритм, который выводит сумму элементов списка, которые больше 10, но меньше 100."
   ]
  },
  {
   "cell_type": "code",
   "execution_count": 147,
   "metadata": {},
   "outputs": [
    {
     "name": "stdout",
     "output_type": "stream",
     "text": [
      "Сумма списка больше 10 и меньше 100 равна: 212\n"
     ]
    }
   ],
   "source": [
    "list_01 = [1, 1, 2, 3, 5, 8, 13, 21, 34, 55, 89, 144, 233, 377, 610]\n",
    "list_02 = []\n",
    "\n",
    "for list_ in list_01:\n",
    "    if list_ > 10 and list_ < 100:\n",
    "        list_02.append(list_)\n",
    "\n",
    "# print(list_02)\n",
    "sum_list_02 = sum(list_02)\n",
    "print(f'Сумма списка больше 10 и меньше 100 равна: {sum_list_02}')\n"
   ]
  },
  {
   "cell_type": "markdown",
   "metadata": {},
   "source": [
    "Задача 4 Данные студентов представлены в виде списка списков:\n",
    "students = [     [\"0001\", \"Антонов\", \"Антон\", \"Игоревич\", \"20.08.2009\", \"БСТ161\"],     [\"1102\", \"Богов\", \"Артем\", \"Игоревич\", \"25.01.2010\", \"БСТ162\"],[\"0333\", \"Глаголева\", \"Анастасия\", \"Николаевна\", \"11.07.2009\", \"БСТ163\"],     [\"4004\", \"Степанова\", \"Наталья\", \"Александровна\", \"13.02.2008\", \"БСТ161\"],     [\"0045\", \"Боков\", \"Игорь\", \"Харитонович\", \"02.06.2009\", \"БСТ161\"],     [\"0096\", \"Васильков\", \"Валентин\", \"Сергеевич\", \"20.03.2009\", \"БСТ164\"],     [\"0607\", \"Сиропова\", \"Виолетта\", \"Эдуардовна\", \"28.05.2010\", \"БСТ162\"],     [\"0309\", \"Шафутинский\", \"Михаил\", \"Михайлович\", \"03.09.2007\", \"БСТ163\"]             ]\n",
    "1.Преобразуйте данные таким образом, чтобы они были представлены в виде словаря, в котором ключами являются номера студентов, а значениями — список из других данных о студентах.\n",
    "2.Напишите функцию, которая принимает в качестве аргумента номер студента и новый номер группы и позволяет изменить номер группы этого студента на новый.\n",
    "3.Напишите функцию, которая принимает номер группы и выводит список (фамилии, имена, отчества) всех студентов этой группы."
   ]
  },
  {
   "cell_type": "code",
   "execution_count": 183,
   "metadata": {},
   "outputs": [
    {
     "name": "stdout",
     "output_type": "stream",
     "text": [
      "1. Результат первого преобразования данных: {'0001': ['Антонов', 'Антон', 'Игоревич', '20.08.2009', 'БСТ161'], '1102': ['Богов', 'Артем', 'Игоревич', '25.01.2010', 'БСТ162'], '0333': ['Глаголева', 'Анастасия', 'Николаевна', '11.07.2009', 'БСТ163'], '4004': ['Степанова', 'Наталья', 'Александровна', '13.02.2008', 'БСТ161'], '0045': ['Боков', 'Игорь', 'Харитонович', '02.06.2009', 'БСТ161'], '0096': ['Васильков', 'Валентин', 'Сергеевич', '20.03.2009', 'БСТ164'], '0607': ['Сиропова', 'Виолетта', 'Эдуардовна', '28.05.2010', 'БСТ162'], '0309': ['Шафутинский', 'Михаил', 'Михайлович', '03.09.2007', 'БСТ163']}\n"
     ]
    },
    {
     "data": {
      "text/plain": [
       "dict"
      ]
     },
     "execution_count": 183,
     "metadata": {},
     "output_type": "execute_result"
    }
   ],
   "source": [
    "students = [[\"0001\", \"Антонов\", \"Антон\", \"Игоревич\", \"20.08.2009\", \"БСТ161\"],\n",
    "            [\"1102\", \"Богов\", \"Артем\", \"Игоревич\", \"25.01.2010\", \"БСТ162\"],\n",
    "            [\"0333\", \"Глаголева\", \"Анастасия\", \"Николаевна\", \"11.07.2009\", \"БСТ163\"],\n",
    "            [\"4004\", \"Степанова\", \"Наталья\", \"Александровна\", \"13.02.2008\", \"БСТ161\"], \n",
    "            [\"0045\", \"Боков\", \"Игорь\", \"Харитонович\", \"02.06.2009\", \"БСТ161\"],   \n",
    "            [\"0096\", \"Васильков\", \"Валентин\", \"Сергеевич\", \"20.03.2009\", \"БСТ164\"], \n",
    "            [\"0607\", \"Сиропова\", \"Виолетта\", \"Эдуардовна\", \"28.05.2010\", \"БСТ162\"],  \n",
    "            [\"0309\", \"Шафутинский\", \"Михаил\", \"Михайлович\", \"03.09.2007\", \"БСТ163\"]]\n",
    "\n",
    "# students[0][0]\n",
    "# students[0][1:]\n",
    "std_list = []\n",
    "for std in students:\n",
    "    std = [std[0], std[1:] ]\n",
    "    std_list.append(std)\n",
    "#     print(std)\n",
    "\n",
    "stud_dict = {key:value for (key, value) in std_list}\n",
    "print(f'1. Результат первого преобразования данных: {stud_dict}')\n",
    "type(stud_dict)"
   ]
  },
  {
   "cell_type": "code",
   "execution_count": 180,
   "metadata": {},
   "outputs": [
    {
     "name": "stdout",
     "output_type": "stream",
     "text": [
      "{'0001': ['Антонов', 'Антон', 'Игоревич', '20.08.2009', 'БСТ161'], '1102': ['Богов', 'Артем', 'Игоревич', '25.01.2010', 'БСТ165'], '0333': ['Глаголева', 'Анастасия', 'Николаевна', '11.07.2009', 'БСТр1111'], '4004': ['Степанова', 'Наталья', 'Александровна', '13.02.2008', 'БСТ161'], '0045': ['Боков', 'Игорь', 'Харитонович', '02.06.2009', 'БСТ161'], '0096': ['Васильков', 'Валентин', 'Сергеевич', '20.03.2009', 'БСТ164'], '0607': ['Сиропова', 'Виолетта', 'Эдуардовна', '28.05.2010', 'БСТ162'], '0309': ['Шафутинский', 'Михаил', 'Михайлович', '03.09.2007', 'БСТ163']}\n"
     ]
    }
   ],
   "source": [
    "# решение 2\n",
    "# 2.Напишите функцию, которая принимает в качестве аргумента номер студента и \n",
    "# новый номер группы и позволяет изменить номер группы этого студента на новый.\n",
    "\n",
    "key= \"0333\"\n",
    "new_group_number = 'БСТр1111'\n",
    "\n",
    "change_group_number(key, new_group_number)\n",
    "\n",
    "# old_list = stud_dict['1102']\n",
    "# # print(old_string)\n",
    "# new_group_str = 'БСТ165'\n",
    "# old_list[-1] = new_group_str\n",
    "# # print(old_string)\n",
    "# stud_dict['1102'] = old_list\n",
    "print(stud_dict)"
   ]
  },
  {
   "cell_type": "code",
   "execution_count": 179,
   "metadata": {},
   "outputs": [],
   "source": [
    "def change_group_number(key, new_group_number):\n",
    "    list_ = stud_dict[key]\n",
    "    list_[-1] = new_group_number\n",
    "    stud_dict[key] = list_"
   ]
  },
  {
   "cell_type": "code",
   "execution_count": 192,
   "metadata": {},
   "outputs": [
    {
     "data": {
      "text/plain": [
       "[['Богов', 'Артем', 'Игоревич'], ['Сиропова', 'Виолетта', 'Эдуардовна']]"
      ]
     },
     "execution_count": 192,
     "metadata": {},
     "output_type": "execute_result"
    }
   ],
   "source": [
    "# 3.Напишите функцию, которая принимает номер группы и выводит список (фамилии, имена, отчества) всех студентов этой группы.\n",
    "# students = [[\"0001\", \"Антонов\", \"Антон\", \"Игоревич\", \"20.08.2009\", \"БСТ161\"],\n",
    "#             [\"1102\", \"Богов\", \"Артем\", \"Игоревич\", \"25.01.2010\", \"БСТ162\"],\n",
    "#             [\"0333\", \"Глаголева\", \"Анастасия\", \"Николаевна\", \"11.07.2009\", \"БСТ163\"],\n",
    "#             [\"4004\", \"Степанова\", \"Наталья\", \"Александровна\", \"13.02.2008\", \"БСТ161\"], \n",
    "#             [\"0045\", \"Боков\", \"Игорь\", \"Харитонович\", \"02.06.2009\", \"БСТ161\"],   \n",
    "#             [\"0096\", \"Васильков\", \"Валентин\", \"Сергеевич\", \"20.03.2009\", \"БСТ164\"], \n",
    "#             [\"0607\", \"Сиропова\", \"Виолетта\", \"Эдуардовна\", \"28.05.2010\", \"БСТ162\"],  \n",
    "#             [\"0309\", \"Шафутинский\", \"Михаил\", \"Михайлович\", \"03.09.2007\", \"БСТ163\"]]\n",
    "\n",
    "group_str = 'БСТ162'\n",
    "who_in_group(group_str)\n",
    "\n"
   ]
  },
  {
   "cell_type": "code",
   "execution_count": 191,
   "metadata": {},
   "outputs": [],
   "source": [
    "def who_in_group(group_str):\n",
    "    std_list = []\n",
    "    # print(students[0][-1])\n",
    "    for std in students:\n",
    "        if std[-1] == group_str:\n",
    "            std = [std[1], std[2],std[3]]\n",
    "            std_list.append(std)\n",
    "\n",
    "    return std_list"
   ]
  },
  {
   "cell_type": "markdown",
   "metadata": {},
   "source": [
    "Задача 5 Дана матрица:\n",
    "matrix = [ [0, 1, 2, 4, 8], [6, 2, 2, 1, 9], [3, 3, 3, 3, 3], [4, 6, 7, 1, 2], [5, 7, 3, 4, 0] ] 1.Выведите результат сложения всех элементов матрицы.\n",
    "2.Напишите алгоритм вычисления максимума из сумм элементов каждого столбца."
   ]
  },
  {
   "cell_type": "code",
   "execution_count": null,
   "metadata": {},
   "outputs": [],
   "source": []
  },
  {
   "cell_type": "code",
   "execution_count": null,
   "metadata": {},
   "outputs": [],
   "source": []
  },
  {
   "cell_type": "code",
   "execution_count": null,
   "metadata": {},
   "outputs": [],
   "source": []
  }
 ],
 "metadata": {
  "kernelspec": {
   "display_name": "Python 3",
   "language": "python",
   "name": "python3"
  },
  "language_info": {
   "codemirror_mode": {
    "name": "ipython",
    "version": 3
   },
   "file_extension": ".py",
   "mimetype": "text/x-python",
   "name": "python",
   "nbconvert_exporter": "python",
   "pygments_lexer": "ipython3",
   "version": "3.6.5"
  }
 },
 "nbformat": 4,
 "nbformat_minor": 2
}
