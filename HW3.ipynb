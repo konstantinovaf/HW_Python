{
 "cells": [
  {
   "cell_type": "markdown",
   "metadata": {},
   "source": [
    "Задание 1\n",
    "Дана статистика рекламных каналов по объемам продаж. Напишите скрипт, который возвращает название канала с максимальным объемом.\n",
    "Т. е. в данном примере скрипт должен возвращать “yandex”.\n",
    "stats = {“facebook”: 55, “yandex”: 120, “vk”: 115, “google”: 99, “email”: 42, “ok”: 98}"
   ]
  },
  {
   "cell_type": "code",
   "execution_count": 15,
   "metadata": {},
   "outputs": [
    {
     "name": "stdout",
     "output_type": "stream",
     "text": [
      "yandex\n"
     ]
    }
   ],
   "source": [
    "stats = {'facebook': 55, 'yandex': 120, 'vk': 115, 'google': 99, 'email': 42, 'ok': 98}\n",
    "\n",
    "stats_sord = sorted(stats.items(), key = lambda stats: stats[1], reverse=True )\n",
    "print(stats_sord[0][0])\n",
    "\n",
    "#x = {1: 2, 3: 4, 4: 3, 2: 1, 0: 0}\n",
    "#sorted_x = sorted(x.items(), key=lambda kv: kv[1])"
   ]
  },
  {
   "cell_type": "markdown",
   "metadata": {},
   "source": [
    "Задание 2\n",
    "Дан список описаний товаров descriptions:\n",
    "descriptions = [\n",
    "[“браслет”, “xiaomi”, “mi”, “band”, “2.”, “умный”, “браслет”, “xiaomi”, “mi”, “лидер”, “в”, “линейке”, “xiaomi.”, “фитнес”, “браслет”, “для”, “android”, “4.4,”, “ios”, “7,”, “экран”, “oled.”, “лучший”, “выбор”, “xiaomi”],\n",
    "[“браслет”, “huawei”, “honor”, “band”, “3.”, “фитнес”, “браслет”, “влагозащищенный”, “сенсорный”, “экран”, “android,”, “ios”, “мониторинг”, “сна”],\n",
    "[“браслет”, “samsung”, “gear”, “fit2”, “pro.”, “влагозащищенный”, “сенсорный”, “amoled-экран”, “мониторинг”, “сна,”, “калорий,”, “новинка”, “samsung”],\n",
    "]\n",
    "\n",
    "Есть подозрение, что некоторые описания содержат много дубликатов одних и тех же слов. \n",
    "Т. е. могут быть переоптимизированными. Для каждого описания товара выведите на экран разницу между \n",
    "количеством уникальных слов и общим количеством слов в этом описании."
   ]
  },
  {
   "cell_type": "code",
   "execution_count": 16,
   "metadata": {},
   "outputs": [
    {
     "name": "stdout",
     "output_type": "stream",
     "text": [
      "Товар №1; Общее кол-во слов-25; Кол-во уникальных слов: 20; Разница между кол-вом уникальных слов и общим кол-вом слов:-5\n",
      "Товар №2; Общее кол-во слов-14; Кол-во уникальных слов: 13; Разница между кол-вом уникальных слов и общим кол-вом слов:-1\n",
      "Товар №3; Общее кол-во слов-13; Кол-во уникальных слов: 12; Разница между кол-вом уникальных слов и общим кол-вом слов:-1\n"
     ]
    }
   ],
   "source": [
    "descriptions = [\n",
    "['браслет', 'xiaomi', 'mi', 'band', '2.', 'умный', 'браслет', 'xiaomi', 'mi', 'лидер', 'в', 'линейке', 'xiaomi.', 'фитнес', 'браслет', 'для', 'android', '4.4,', 'ios', '7,', 'экран', 'oled.', 'лучший', 'выбор', 'xiaomi'],\n",
    "['браслет', 'huawei', 'honor', 'band', '3.', 'фитнес', 'браслет', 'влагозащищенный', 'сенсорный', 'экран', 'android,', 'ios', 'мониторинг', 'сна'],\n",
    "['браслет', 'samsung', 'gear', 'fit2', 'pro.', 'влагозащищенный', 'сенсорный', 'amoled-экран', 'мониторинг', 'сна,', 'калорий,', 'новинка', 'samsung'],\n",
    "]\n",
    "i = 0\n",
    "for desc in descriptions:\n",
    "    i +=1\n",
    "    print(f\"Товар №{i};\", f'Общее кол-во слов-{len(desc)};',\n",
    "          f'Кол-во уникальных слов: {len(set(desc))};',\n",
    "          f'Разница между кол-вом уникальных слов и общим кол-вом слов:{len(set(desc)) - len(desc)}')\n",
    "    "
   ]
  },
  {
   "cell_type": "code",
   "execution_count": 17,
   "metadata": {},
   "outputs": [
    {
     "ename": "SyntaxError",
     "evalue": "invalid syntax (<ipython-input-17-7cbbb0bb55e2>, line 1)",
     "output_type": "error",
     "traceback": [
      "\u001b[1;36m  File \u001b[1;32m\"<ipython-input-17-7cbbb0bb55e2>\"\u001b[1;36m, line \u001b[1;32m1\u001b[0m\n\u001b[1;33m    Задание 3\u001b[0m\n\u001b[1;37m            ^\u001b[0m\n\u001b[1;31mSyntaxError\u001b[0m\u001b[1;31m:\u001b[0m invalid syntax\n"
     ]
    }
   ],
   "source": [
    "Задание 3\n",
    "В примере поиска с помощью кортежей мы использовали 3 столбца. \n",
    "Напишите функцию, которая формирует словарь для поиска по n столбцам."
   ]
  },
  {
   "cell_type": "code",
   "execution_count": 19,
   "metadata": {},
   "outputs": [
    {
     "name": "stdout",
     "output_type": "stream",
     "text": [
      "Введите количество столбцов, которое необходимо для формирования ключа2\n",
      "{('14', '26376'): '3', ('12', '7316'): '2', ('28', '2803'): '2', ('25', '22022'): '2', ('20', '13883'): '5'}\n"
     ]
    }
   ],
   "source": [
    "stats_dict = {}\n",
    "# выбор n, которые определяет сколько столбцов будут ключем\n",
    "#Вводим ограничение: key should be less 1then len(line)-1\n",
    "n=int(input('Введите количество столбцов, которое необходимо для формирования ключа'))\n",
    "try:\n",
    "    \n",
    "    with open('stats.csv') as f:\n",
    "        for line in f:\n",
    "            line = line.strip().split(',')\n",
    "            stats_dict[tuple(line[:n])] = line[n]\n",
    "            #stats_dict[tuple(line[:line_element_count])] = line[line_element_count]\n",
    "\n",
    "#Print first 5 elements\n",
    "# Using items() + list slicing  \n",
    "# Get first K items in dictionary  \n",
    "        out = dict(list(stats_dict.items())[0: 5])\n",
    "        print(str(out))\n",
    "        #break\n",
    "    #n_items = take(10, stats_dict.items())\n",
    "                \n",
    "except:\n",
    "    print('Вы ввели слишком большое число столбцов для определения поля [key]. Не остается полей для формирования поля [value]. Попробуйте снизить количество столбцов для ключа')\n"
   ]
  }
 ],
 "metadata": {
  "kernelspec": {
   "display_name": "Python 3",
   "language": "python",
   "name": "python3"
  },
  "language_info": {
   "codemirror_mode": {
    "name": "ipython",
    "version": 3
   },
   "file_extension": ".py",
   "mimetype": "text/x-python",
   "name": "python",
   "nbconvert_exporter": "python",
   "pygments_lexer": "ipython3",
   "version": "3.6.5"
  }
 },
 "nbformat": 4,
 "nbformat_minor": 2
}
