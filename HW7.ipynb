{
 "cells": [
  {
   "cell_type": "markdown",
   "metadata": {},
   "source": [
    "Преподаватель: Константин Башевой\n",
    "**Домашнее задание **\n",
    "\n",
    "Задание 1\n",
    "Напишите функцию date_range, которая возвращает список дней между датами start_date и end_date. Даты должны вводиться в формате YYYY-MM-DD."
   ]
  },
  {
   "cell_type": "code",
   "execution_count": 12,
   "metadata": {},
   "outputs": [],
   "source": [
    "def date_range(start_date, end_date):\n",
    "    from datetime import datetime\n",
    "    from datetime import timedelta\n",
    "    \n",
    "    start_date_dt = datetime.strptime(start_date, '%Y-%m-%d')\n",
    "    end_date_dt = datetime.strptime(end_date, '%Y-%m-%d')\n",
    "    \n",
    "    current_dt = start_date_dt\n",
    "    date_range = [(start_date_dt + timedelta(days=x)).strftime('%Y-%m-%d') for x in range(10)]\n",
    "    \n",
    "    return date_range\n"
   ]
  },
  {
   "cell_type": "code",
   "execution_count": 34,
   "metadata": {},
   "outputs": [
    {
     "name": "stdout",
     "output_type": "stream",
     "text": [
      "['2018-01-01', '2018-01-02', '2018-01-03', '2018-01-04', '2018-01-05', '2018-01-06', '2018-01-07', '2018-01-08', '2018-01-09', '2018-01-10']\n"
     ]
    }
   ],
   "source": [
    "start_date = '2018-01-01'\n",
    "end_date = '2018-01-07'\n",
    "\n",
    "print(date_range(start_date, end_date))\n"
   ]
  },
  {
   "cell_type": "markdown",
   "metadata": {},
   "source": [
    "Задание 2\n",
    "Дополните функцию из первого задания проверкой на корректность дат. В случае неверного формата \n",
    "или если start_date > end_date должен возвращаться пустой список.\n",
    "\n"
   ]
  },
  {
   "cell_type": "code",
   "execution_count": 139,
   "metadata": {},
   "outputs": [],
   "source": [
    "def check_date_format(date_str):\n",
    "    import re\n",
    "    regEx_Date = r'\\b[\\d]{4}?-[\\d]{1,2}?-[\\d]{1,2}?\\b'\n",
    "#     r'\\b\\d{4}?-\\d{2}?-\\d{2}?\\b'\n",
    "#     '\\d{1,2}-\\d{1,2}-\\d{4}'\n",
    "    if re.search(regEx_Date, date_str):\n",
    "#         print(f'{date_str} дата корректная по формату')\n",
    "        return True\n",
    "    else:\n",
    "        print(f'Дата {date_str} имеет не корректный формат ввода \"YYYY-MM-DD\"')\n",
    "        return False"
   ]
  },
  {
   "cell_type": "code",
   "execution_count": 140,
   "metadata": {},
   "outputs": [],
   "source": [
    "def date_range2(start_date, end_date):\n",
    "    from datetime import datetime\n",
    "    from datetime import timedelta\n",
    "    \n",
    "    if check_date_format(start_date) == True and check_date_format(end_date) == True:\n",
    "#         print('Проверка формата дат прошла успешно')\n",
    "        pass\n",
    "    else:\n",
    "        return []\n",
    "            \n",
    "    start_date_dt = datetime.strptime(start_date, '%Y-%m-%d')\n",
    "    end_date_dt = datetime.strptime(end_date, '%Y-%m-%d')\n",
    "    \n",
    "    if start_date_dt >= end_date_dt:\n",
    "        print('Дата начала больше или равна дате конца. Провести вычисления не возможно')\n",
    "        return []\n",
    "    else:\n",
    "#         print('Проверка пройдена: Дата начала меньше даты конца')\n",
    "        current_dt = start_date_dt\n",
    "        date_range = [(start_date_dt + timedelta(days=x)).strftime('%Y-%m-%d') for x in range(10)]\n",
    "        return date_range\n",
    "    \n",
    "    \n",
    "    "
   ]
  },
  {
   "cell_type": "code",
   "execution_count": 142,
   "metadata": {},
   "outputs": [
    {
     "name": "stdout",
     "output_type": "stream",
     "text": [
      "['2018-01-01', '2018-01-02', '2018-01-03', '2018-01-04', '2018-01-05', '2018-01-06', '2018-01-07', '2018-01-08', '2018-01-09', '2018-01-10']\n"
     ]
    }
   ],
   "source": [
    "start_date = '2018-01-01'\n",
    "end_date = '2018-01-07'\n",
    "\n",
    "print(date_range2(start_date, end_date))"
   ]
  },
  {
   "cell_type": "markdown",
   "metadata": {},
   "source": [
    "Задание 3\n",
    "Дан поток дат в формате YYYY-MM-DD, в которых встречаются некорректные значения:\n",
    "stream = [‘2018-04-02’, ‘2018-02-29’, ‘2018-19-02’]\n",
    "\n",
    "Напишите функцию, которая проверяет эти даты на корректность. \n",
    "Т. е. для каждой даты возвращает True (дата корректна) или False (некорректная дата).\n",
    "\n"
   ]
  },
  {
   "cell_type": "code",
   "execution_count": 150,
   "metadata": {},
   "outputs": [],
   "source": [
    "def meaning_control(date):\n",
    "    from datetime import datetime\n",
    "    try:\n",
    "        date_dt = datetime.strptime(date, '%Y-%m-%d')\n",
    "        return True\n",
    "    except:\n",
    "        return False"
   ]
  },
  {
   "cell_type": "code",
   "execution_count": 151,
   "metadata": {},
   "outputs": [
    {
     "name": "stdout",
     "output_type": "stream",
     "text": [
      "True\n",
      "False\n",
      "False\n"
     ]
    }
   ],
   "source": [
    "stream = ['2018-04-02', '2018-02-29', '2018-19-02']\n",
    "\n",
    "for st in stream:\n",
    "    print(meaning_control(st))"
   ]
  },
  {
   "cell_type": "markdown",
   "metadata": {},
   "source": [
    "Задание 4 (бонусное)\n",
    "Ваш коллега прислал код функции:\n",
    "\n",
    "DEFAULT_USER_COUNT = 3\n",
    "\n",
    "def delete_and_return_last_user(region, default_list=[‘A100’, ‘A101’, ‘A102’]):\n",
    "\"\"“\n",
    "Удаляет из списка default_list последнего пользователя\n",
    "и возвращает ID нового последнего пользователя.\n",
    "”\"\"\n",
    "element_to_delete = default_list[-1]\n",
    "default_list.remove(element_to_delete)\n",
    "\n",
    "return default_list[DEFAULT_USER_COUNT-2]\n",
    "При однократном вызове этой функции все работает корректно:\n",
    "delete_and_return_last_user(1)\n",
    "‘A101’\n",
    "\n",
    "Однако, при повторном вызове получается ошибка IndexError: list index out of range.\n",
    "\n",
    "Задание:\n",
    "\n",
    "Что значит ошибка list index out of range?\n",
    "Почему при первом запуске функция работает корректно, а при втором - нет?"
   ]
  },
  {
   "cell_type": "code",
   "execution_count": 202,
   "metadata": {},
   "outputs": [],
   "source": [
    "DEFAULT_USER_COUNT = 3\n",
    "\n",
    "def delete_and_return_last_user(region, default_list=['A100', 'A101', 'A102']):\n",
    "    \"\"\"\n",
    "    Удаляет из списка default_list последнего пользователя\n",
    "    и возвращает ID нового последнего пользователя.\n",
    "    \"\"\"\n",
    "    print('что вошло в функцию')\n",
    "    print(default_list)\n",
    "    print('элемент для уделения')\n",
    "    element_to_delete = default_list[-1]\n",
    "    print(element_to_delete)\n",
    "    default_list.remove(element_to_delete)\n",
    "    print('default_list после корректировки')\n",
    "    print(default_list)\n",
    "    print('Что выдала функция')\n",
    "    print(default_list[DEFAULT_USER_COUNT-2])\n",
    "    print(DEFAULT_USER_COUNT)\n",
    "    return default_list[DEFAULT_USER_COUNT-2]\n",
    "# При однократном вызове этой функции все работает корректно:\n",
    "# delete_and_return_last_user(1)\n",
    "# ‘A101’"
   ]
  },
  {
   "cell_type": "code",
   "execution_count": 203,
   "metadata": {},
   "outputs": [
    {
     "name": "stdout",
     "output_type": "stream",
     "text": [
      "что вошло в функцию\n",
      "['A100', 'A101', 'A102']\n",
      "элемент для уделения\n",
      "A102\n",
      "default_list после корректировки\n",
      "['A100', 'A101']\n",
      "Что выдала функция\n",
      "A101\n",
      "3\n"
     ]
    },
    {
     "data": {
      "text/plain": [
       "'A101'"
      ]
     },
     "execution_count": 203,
     "metadata": {},
     "output_type": "execute_result"
    }
   ],
   "source": [
    "default_list=['A100', 'A101', 'A102']\n",
    "delete_and_return_last_user(default_list)\n",
    "# print(default_list)"
   ]
  },
  {
   "cell_type": "markdown",
   "metadata": {},
   "source": [
    "\"list index out of range\" - идет обращение к элементу листа, которого нет\n",
    "\n",
    "Почему при первом запуске функция работает корректно, а при втором - нет?\n",
    "\n",
    "Ответ: на первом проходе в функцию передается default_list(состояит из 3 элементов).После первого прохода лист становится из 2 элементов ['A100', 'A101']. Внутри функции удаляется element_to_delete 'A101' и default_list становится равным 1 элементу ['A100'].\n",
    "Когда начинает отрабатабатывать default_list[DEFAULT_USER_COUNT-2] в переменную DEFAULT_USER_COUNT = 3 изменения внесены не были. То есть запрос идет к default_list[1], он его уже нет. В default_list остался только 1 элемент default_list[0] = ['A100']. Поэтому выдается ошибка 'list index out of range'"
   ]
  }
 ],
 "metadata": {
  "kernelspec": {
   "display_name": "Python 3",
   "language": "python",
   "name": "python3"
  },
  "language_info": {
   "codemirror_mode": {
    "name": "ipython",
    "version": 3
   },
   "file_extension": ".py",
   "mimetype": "text/x-python",
   "name": "python",
   "nbconvert_exporter": "python",
   "pygments_lexer": "ipython3",
   "version": "3.6.5"
  }
 },
 "nbformat": 4,
 "nbformat_minor": 2
}
